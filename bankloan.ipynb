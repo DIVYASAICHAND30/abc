{
  "nbformat": 4,
  "nbformat_minor": 0,
  "metadata": {
    "colab": {
      "name": "bankloan.ipynb",
      "provenance": [],
      "collapsed_sections": [],
      "authorship_tag": "ABX9TyP05cNQf0n8g5Vswr/mlsu/",
      "include_colab_link": true
    },
    "kernelspec": {
      "name": "python3",
      "display_name": "Python 3"
    },
    "language_info": {
      "name": "python"
    }
  },
  "cells": [
    {
      "cell_type": "markdown",
      "metadata": {
        "id": "view-in-github",
        "colab_type": "text"
      },
      "source": [
        "<a href=\"https://colab.research.google.com/github/DIVYASAICHAND30/abc/blob/simple-program/bankloan.ipynb\" target=\"_parent\"><img src=\"https://colab.research.google.com/assets/colab-badge.svg\" alt=\"Open In Colab\"/></a>"
      ]
    },
    {
      "cell_type": "code",
      "execution_count": 3,
      "metadata": {
        "colab": {
          "base_uri": "https://localhost:8080/"
        },
        "id": "vkzehMeJHwtB",
        "outputId": "244d8b14-e678-49f2-ff82-f5dc65240605"
      },
      "outputs": [
        {
          "output_type": "stream",
          "name": "stdout",
          "text": [
            "Enter your annual salary: 20000\n",
            "Enter the number of years employed: 4\n",
            "You do not qualify for this loan.\n"
          ]
        }
      ],
      "source": [
        "\n",
        "MIN_SALARY = 30000.0\n",
        "MIN_YEARS = 2\n",
        "salary = float(input('Enter your annual salary: '))\n",
        "years_on_job = int(input('Enter the number of ' +\n",
        "                         'years employed: '))\n",
        "if salary >= MIN_SALARY and years_on_job >= MIN_YEARS:\n",
        "    print ('You qualify for the loan.')\n",
        "else:\n",
        "    print ('You do not qualify for this loan.')\n"
      ]
    }
  ]
}