{
  "nbformat": 4,
  "nbformat_minor": 0,
  "metadata": {
    "colab": {
      "name": "multiply 2 strings.ipynb",
      "provenance": [],
      "collapsed_sections": [],
      "authorship_tag": "ABX9TyNOvBZsMgWOPmZ4BjDMKSSQ",
      "include_colab_link": true
    },
    "kernelspec": {
      "name": "python3",
      "display_name": "Python 3"
    },
    "language_info": {
      "name": "python"
    }
  },
  "cells": [
    {
      "cell_type": "markdown",
      "metadata": {
        "id": "view-in-github",
        "colab_type": "text"
      },
      "source": [
        "<a href=\"https://colab.research.google.com/github/DIVYASAICHAND30/abc/blob/simple-program/multiply_2_strings.ipynb\" target=\"_parent\"><img src=\"https://colab.research.google.com/assets/colab-badge.svg\" alt=\"Open In Colab\"/></a>"
      ]
    },
    {
      "cell_type": "code",
      "execution_count": null,
      "metadata": {
        "colab": {
          "base_uri": "https://localhost:8080/"
        },
        "id": "vkzehMeJHwtB",
        "outputId": "244d8b14-e678-49f2-ff82-f5dc65240605"
      },
      "outputs": [
        {
          "output_type": "stream",
          "name": "stdout",
          "text": [
            "Enter your annual salary: 20000\n",
            "Enter the number of years employed: 4\n",
            "You do not qualify for this loan.\n"
          ]
        }
      ],
      "source": [
        "\n",
        "MIN_SALARY = 30000.0\n",
        "MIN_YEARS = 2\n",
        "salary = float(input('Enter your annual salary: '))\n",
        "years_on_job = int(input('Enter the number of ' +\n",
        "                         'years employed: '))\n",
        "if salary >= MIN_SALARY and years_on_job >= MIN_YEARS:\n",
        "    print ('You qualify for the loan.')\n",
        "else:\n",
        "    print ('You do not qualify for this loan.')\n"
      ]
    },
    {
      "cell_type": "code",
      "source": [
        "def multiplication_of_two_string(a,b):\n",
        "  product = int(a) * int(b)\n",
        "  return (product)\n",
        "c=int(input('enter no of pairs to be multiplied:'))\n",
        "for i in range(c):\n",
        "    a,b=input('enter a pair :').split() \n",
        "    print(multiplication_of_two_string(a.strip() , b.strip() ))"
      ],
      "metadata": {
        "id": "wqZS8UXuTpIF",
        "colab": {
          "base_uri": "https://localhost:8080/"
        },
        "outputId": "0b916efe-4599-4d5c-a090-6d27cb78587b"
      },
      "execution_count": 17,
      "outputs": [
        {
          "output_type": "stream",
          "name": "stdout",
          "text": [
            "enter no of pairs to be multiplied:2\n",
            "enter a pair :2 3\n",
            "6\n",
            "enter a pair :3 4\n",
            "12\n"
          ]
        }
      ]
    }
  ]
}