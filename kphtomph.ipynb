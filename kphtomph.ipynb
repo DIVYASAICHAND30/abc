{
  "nbformat": 4,
  "nbformat_minor": 0,
  "metadata": {
    "colab": {
      "name": "kphtomph.ipynb",
      "provenance": [],
      "collapsed_sections": [],
      "authorship_tag": "ABX9TyMYcdhraAaHKAo1C1Rd66uc",
      "include_colab_link": true
    },
    "kernelspec": {
      "name": "python3",
      "display_name": "Python 3"
    },
    "language_info": {
      "name": "python"
    }
  },
  "cells": [
    {
      "cell_type": "markdown",
      "metadata": {
        "id": "view-in-github",
        "colab_type": "text"
      },
      "source": [
        "<a href=\"https://colab.research.google.com/github/DIVYASAICHAND30/abc/blob/simple-program/kphtomph.ipynb\" target=\"_parent\"><img src=\"https://colab.research.google.com/assets/colab-badge.svg\" alt=\"Open In Colab\"/></a>"
      ]
    },
    {
      "cell_type": "code",
      "source": [
        ""
      ],
      "metadata": {
        "id": "yXTZM22sZtFh"
      },
      "execution_count": null,
      "outputs": []
    },
    {
      "cell_type": "code",
      "execution_count": null,
      "metadata": {
        "colab": {
          "base_uri": "https://localhost:8080/"
        },
        "id": "vkzehMeJHwtB",
        "outputId": "244d8b14-e678-49f2-ff82-f5dc65240605"
      },
      "outputs": [
        {
          "output_type": "stream",
          "name": "stdout",
          "text": [
            "Enter your annual salary: 20000\n",
            "Enter the number of years employed: 4\n",
            "You do not qualify for this loan.\n"
          ]
        }
      ],
      "source": [
        "\n",
        "MIN_SALARY = 30000.0\n",
        "MIN_YEARS = 2\n",
        "salary = float(input('Enter your annual salary: '))\n",
        "years_on_job = int(input('Enter the number of ' +\n",
        "                         'years employed: '))\n",
        "if salary >= MIN_SALARY and years_on_job >= MIN_YEARS:\n",
        "    print ('You qualify for the loan.')\n",
        "else:\n",
        "    print ('You do not qualify for this loan.')\n"
      ]
    },
    {
      "cell_type": "code",
      "source": [
        "def multiplication_of_two_string(a,b):\n",
        "  product = int(a) * int(b)\n",
        "  return (product)\n",
        "c=int(input('enter no of pairs to be multiplied:'))\n",
        "for i in range(c):\n",
        "    a,b=input('enter a pair :').split() \n",
        "    print(multiplication_of_two_string(a.strip() , b.strip() ))"
      ],
      "metadata": {
        "id": "wqZS8UXuTpIF",
        "colab": {
          "base_uri": "https://localhost:8080/"
        },
        "outputId": "0b916efe-4599-4d5c-a090-6d27cb78587b"
      },
      "execution_count": 17,
      "outputs": [
        {
          "output_type": "stream",
          "name": "stdout",
          "text": [
            "enter no of pairs to be multiplied:2\n",
            "enter a pair :2 3\n",
            "6\n",
            "enter a pair :3 4\n",
            "12\n"
          ]
        }
      ]
    },
    {
      "cell_type": "code",
      "source": [
        "start_speed=60\n",
        "end_speed=131\n",
        "increment=10\n",
        "conversation_factor=0.6214\n",
        "print('kph\\tmph')\n",
        "for kph in range (start_speed, end_speed, increment):\n",
        "  mph= kph * conversation_factor\n",
        "  print (kph, '/t', format(mph,'.1f'))"
      ],
      "metadata": {
        "colab": {
          "base_uri": "https://localhost:8080/"
        },
        "id": "G1IceoJcaIpj",
        "outputId": "334afd94-2ddc-47c5-93a5-171debfef820"
      },
      "execution_count": 21,
      "outputs": [
        {
          "output_type": "stream",
          "name": "stdout",
          "text": [
            "kph\tmph\n",
            "60 /t 37.3\n",
            "70 /t 43.5\n",
            "80 /t 49.7\n",
            "90 /t 55.9\n",
            "100 /t 62.1\n",
            "110 /t 68.4\n",
            "120 /t 74.6\n",
            "130 /t 80.8\n"
          ]
        }
      ]
    }
  ]
}